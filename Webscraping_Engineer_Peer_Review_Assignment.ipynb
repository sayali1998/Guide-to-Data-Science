{
 "cells": [
  {
   "cell_type": "markdown",
   "metadata": {},
   "source": [
    "<center>\n",
    "    <img src=\"https://gitlab.com/ibm/skills-network/courses/placeholder101/-/raw/master/labs/module%201/images/IDSNlogo.png\" width=\"300\" alt=\"cognitiveclass.ai logo\"  />\n",
    "</center>\n"
   ]
  },
  {
   "cell_type": "markdown",
   "metadata": {},
   "source": [
    "# Peer Review Assignment - Data Engineer - Webscraping\n"
   ]
  },
  {
   "cell_type": "markdown",
   "metadata": {},
   "source": [
    "Estimated time needed: **20** minutes\n"
   ]
  },
  {
   "cell_type": "markdown",
   "metadata": {},
   "source": [
    "## Objectives\n",
    "\n",
    "In this part you will:\n",
    "\n",
    "*   Use webscraping to get bank information\n"
   ]
  },
  {
   "cell_type": "markdown",
   "metadata": {},
   "source": [
    "For this lab, we are going to be using Python and several Python libraries. Some of these libraries might be installed in your lab environment or in SN Labs. Others may need to be installed by you. The cells below will install these libraries when executed.\n"
   ]
  },
  {
   "cell_type": "code",
   "execution_count": 1,
   "metadata": {},
   "outputs": [
    {
     "name": "stdout",
     "output_type": "stream",
     "text": [
      "Requirement already satisfied: bs4 in c:\\users\\sayal\\appdata\\local\\programs\\python\\python37\\lib\\site-packages (0.0.1)\n",
      "Requirement already satisfied: beautifulsoup4 in c:\\users\\sayal\\appdata\\local\\programs\\python\\python37\\lib\\site-packages (from bs4) (4.10.0)\n",
      "Requirement already satisfied: soupsieve>1.2 in c:\\users\\sayal\\appdata\\local\\programs\\python\\python37\\lib\\site-packages (from beautifulsoup4->bs4) (2.3.1)\n"
     ]
    },
    {
     "name": "stderr",
     "output_type": "stream",
     "text": [
      "WARNING: You are using pip version 21.3.1; however, version 22.0.3 is available.\n",
      "You should consider upgrading via the 'c:\\users\\sayal\\appdata\\local\\programs\\python\\python37\\python.exe -m pip install --upgrade pip' command.\n"
     ]
    }
   ],
   "source": [
    "#!pip install pandas\n",
    "!pip install bs4\n",
    "#!pip install requests"
   ]
  },
  {
   "cell_type": "markdown",
   "metadata": {},
   "source": [
    "## Imports\n",
    "\n",
    "Import any additional libraries you may need here.\n"
   ]
  },
  {
   "cell_type": "code",
   "execution_count": 2,
   "metadata": {},
   "outputs": [],
   "source": [
    "from bs4 import BeautifulSoup\n",
    "import requests\n",
    "import pandas as pd"
   ]
  },
  {
   "cell_type": "markdown",
   "metadata": {},
   "source": [
    "## Extract Data Using Web Scraping\n"
   ]
  },
  {
   "cell_type": "markdown",
   "metadata": {},
   "source": [
    "The wikipedia webpage [https://en.wikipedia.org/wiki/List_of_largest_banks](https://en.wikipedia.org/wiki/List_of_largest_banks?utm_medium=Exinfluencer&utm_source=Exinfluencer&utm_content=000026UJ&utm_term=10006555&utm_id=NA-SkillsNetwork-Channel-SkillsNetworkCoursesIBMDeveloperSkillsNetworkPY0221ENSkillsNetwork23455645-2021-01-01) provides information about largest banks in the world by various parameters. Scrape the data from the table 'By market capitalization' and store it in a JSON file.\n"
   ]
  },
  {
   "cell_type": "markdown",
   "metadata": {},
   "source": [
    "### Webpage Contents\n",
    "\n",
    "Gather the contents of the webpage in text format using the `requests` library and assign it to the variable <code>html_data</code>\n"
   ]
  },
  {
   "cell_type": "code",
   "execution_count": 3,
   "metadata": {},
   "outputs": [],
   "source": [
    "#Write your code here\n",
    "\n",
    "data_url = requests.get(\"https://en.wikipedia.org/wiki/List_of_largest_banks\")\n",
    "html_data = data_url.content"
   ]
  },
  {
   "cell_type": "markdown",
   "metadata": {},
   "source": [
    "<b>Question 1</b> Print out the output of the following line, and remember it as it will be a quiz question:\n"
   ]
  },
  {
   "cell_type": "code",
   "execution_count": 4,
   "metadata": {},
   "outputs": [
    {
     "data": {
      "text/plain": [
       "b'List of largest banks -'"
      ]
     },
     "execution_count": 4,
     "metadata": {},
     "output_type": "execute_result"
    }
   ],
   "source": [
    "html_data[101:124]"
   ]
  },
  {
   "cell_type": "markdown",
   "metadata": {},
   "source": [
    "### Scraping the Data\n",
    "\n",
    "<b> Question 2</b> Using the contents and `beautiful soup` load the data from the `By market capitalization` table into a `pandas` dataframe. The dataframe should have the country `Name` and `Market Cap (US$ Billion)` as column names.  Display the first five rows using head.\n"
   ]
  },
  {
   "cell_type": "markdown",
   "metadata": {},
   "source": [
    "Using BeautifulSoup parse the contents of the webpage.\n"
   ]
  },
  {
   "cell_type": "code",
   "execution_count": 5,
   "metadata": {},
   "outputs": [],
   "source": [
    "#Replace the dots below\n",
    "data  = BeautifulSoup(html_data, \"html.parser\")\n",
    "soup=data.find_all(\"table\")"
   ]
  },
  {
   "cell_type": "markdown",
   "metadata": {},
   "source": [
    "Load the data from the `By market capitalization` table into a pandas dataframe. The dataframe should have the country `Name` and `Market Cap (US$ Billion)` as column names. Using the empty dataframe `data` and the given loop extract the necessary data from each row and append it to the empty dataframe.\n"
   ]
  },
  {
   "cell_type": "code",
   "execution_count": 6,
   "metadata": {},
   "outputs": [
    {
     "name": "stdout",
     "output_type": "stream",
     "text": [
      "[{'Name': ' JPMorgan Chase', 'Market Cap (US$ Billion)': '368.78'}, {'Name': ' Industrial and Commercial Bank of China', 'Market Cap (US$ Billion)': '295.65'}, {'Name': ' Bank of America', 'Market Cap (US$ Billion)': '279.73'}, {'Name': ' Wells Fargo', 'Market Cap (US$ Billion)': '214.34'}, {'Name': ' China Construction Bank', 'Market Cap (US$ Billion)': '207.98'}, {'Name': ' Agricultural Bank of China', 'Market Cap (US$ Billion)': '181.49'}, {'Name': ' HSBC Holdings PLC', 'Market Cap (US$ Billion)': '169.47'}, {'Name': ' Citigroup Inc.', 'Market Cap (US$ Billion)': '163.58'}, {'Name': ' Bank of China', 'Market Cap (US$ Billion)': '151.15'}, {'Name': ' China Merchants Bank', 'Market Cap (US$ Billion)': '133.37'}, {'Name': ' Royal Bank of Canada', 'Market Cap (US$ Billion)': '113.80'}, {'Name': ' Toronto-Dominion Bank', 'Market Cap (US$ Billion)': '106.61'}, {'Name': ' Commonwealth Bank', 'Market Cap (US$ Billion)': '99.77'}, {'Name': ' HDFC Bank', 'Market Cap (US$ Billion)': '105.9'}, {'Name': ' U.S. Bancorp', 'Market Cap (US$ Billion)': '84.40'}, {'Name': ' Goldman Sachs', 'Market Cap (US$ Billion)': '78.70'}, {'Name': ' Banco Santander', 'Market Cap (US$ Billion)': '75.47'}, {'Name': ' Banco Bradesco', 'Market Cap (US$ Billion)': '74.67'}, {'Name': ' Morgan Stanley', 'Market Cap (US$ Billion)': '73.93'}, {'Name': ' Westpac', 'Market Cap (US$ Billion)': '67.84'}, {'Name': ' Mitsubishi UFJ Financial Group', 'Market Cap (US$ Billion)': '66.20'}, {'Name': ' Scotiabank', 'Market Cap (US$ Billion)': '65.48'}, {'Name': ' PNC Financial Services', 'Market Cap (US$ Billion)': '63.11'}, {'Name': ' Bank of Communications', 'Market Cap (US$ Billion)': '61.85'}, {'Name': ' BNP Paribas', 'Market Cap (US$ Billion)': '59.36'}, {'Name': ' Australia and New Zealand Banking Group', 'Market Cap (US$ Billion)': '54.88'}, {'Name': ' National Australia Bank', 'Market Cap (US$ Billion)': '51.68'}, {'Name': ' Lloyds Banking Group', 'Market Cap (US$ Billion)': '51.19'}, {'Name': ' Sumitomo Mitsui Financial Group', 'Market Cap (US$ Billion)': '49.85'}, {'Name': ' Bank of Montreal', 'Market Cap (US$ Billion)': '48.12'}, {'Name': ' UBS', 'Market Cap (US$ Billion)': '45.92'}, {'Name': ' ING Group', 'Market Cap (US$ Billion)': '44.97'}, {'Name': ' Capital One', 'Market Cap (US$ Billion)': '43.22'}, {'Name': ' The Bank of New York Mellon', 'Market Cap (US$ Billion)': '42.58'}, {'Name': ' China Minsheng Bank', 'Market Cap (US$ Billion)': '39.13'}, {'Name': ' China CITIC Bank', 'Market Cap (US$ Billion)': '38.55'}, {'Name': ' Banco Bilbao Vizcaya Argentaria', 'Market Cap (US$ Billion)': '37.42'}, {'Name': ' Mizuho Financial Group', 'Market Cap (US$ Billion)': '36.95'}, {'Name': ' Intesa Sanpaolo', 'Market Cap (US$ Billion)': '36.90'}, {'Name': ' Crédit Agricole', 'Market Cap (US$ Billion)': '34.89'}, {'Name': ' Canadian Imperial Bank of Commerce', 'Market Cap (US$ Billion)': '34.87'}, {'Name': ' Royal Bank of Scotland', 'Market Cap (US$ Billion)': '33.95'}, {'Name': ' Barclays', 'Market Cap (US$ Billion)': '33.26'}, {'Name': ' Credit Suisse', 'Market Cap (US$ Billion)': '30.75'}, {'Name': ' Nordea', 'Market Cap (US$ Billion)': '29.59'}, {'Name': ' Standard Chartered', 'Market Cap (US$ Billion)': '29.37'}, {'Name': ' KBC Bank', 'Market Cap (US$ Billion)': '27.40'}, {'Name': ' UniCredit', 'Market Cap (US$ Billion)': '26.88'}, {'Name': ' Société Générale', 'Market Cap (US$ Billion)': '21.27'}, {'Name': ' Deutsche Bank', 'Market Cap (US$ Billion)': '15.77'}]\n"
     ]
    }
   ],
   "source": [
    "data = []\n",
    "for row in soup[3].find('tbody').find_all('tr'):\n",
    "    col = row.find_all(\"td\")\n",
    "    if(len(col)>0):\n",
    "        l = dict()\n",
    "        l[\"Name\"] = str(col[1].text).replace(\"\\n\",\"\")\n",
    "        l[\"Market Cap (US$ Billion)\"] = str(col[2].text).replace(\"\\n\",\"\")\n",
    "        data.append(l)\n",
    "print(data)\n",
    "data = pd.DataFrame(data)"
   ]
  },
  {
   "cell_type": "markdown",
   "metadata": {},
   "source": [
    "**Question 3** Display the first five rows using the `head` function.\n"
   ]
  },
  {
   "cell_type": "code",
   "execution_count": 7,
   "metadata": {},
   "outputs": [
    {
     "data": {
      "text/html": [
       "<div>\n",
       "<style scoped>\n",
       "    .dataframe tbody tr th:only-of-type {\n",
       "        vertical-align: middle;\n",
       "    }\n",
       "\n",
       "    .dataframe tbody tr th {\n",
       "        vertical-align: top;\n",
       "    }\n",
       "\n",
       "    .dataframe thead th {\n",
       "        text-align: right;\n",
       "    }\n",
       "</style>\n",
       "<table border=\"1\" class=\"dataframe\">\n",
       "  <thead>\n",
       "    <tr style=\"text-align: right;\">\n",
       "      <th></th>\n",
       "      <th>Name</th>\n",
       "      <th>Market Cap (US$ Billion)</th>\n",
       "    </tr>\n",
       "  </thead>\n",
       "  <tbody>\n",
       "    <tr>\n",
       "      <th>0</th>\n",
       "      <td>JPMorgan Chase</td>\n",
       "      <td>368.78</td>\n",
       "    </tr>\n",
       "    <tr>\n",
       "      <th>1</th>\n",
       "      <td>Industrial and Commercial Bank of China</td>\n",
       "      <td>295.65</td>\n",
       "    </tr>\n",
       "    <tr>\n",
       "      <th>2</th>\n",
       "      <td>Bank of America</td>\n",
       "      <td>279.73</td>\n",
       "    </tr>\n",
       "    <tr>\n",
       "      <th>3</th>\n",
       "      <td>Wells Fargo</td>\n",
       "      <td>214.34</td>\n",
       "    </tr>\n",
       "    <tr>\n",
       "      <th>4</th>\n",
       "      <td>China Construction Bank</td>\n",
       "      <td>207.98</td>\n",
       "    </tr>\n",
       "  </tbody>\n",
       "</table>\n",
       "</div>"
      ],
      "text/plain": [
       "                                       Name Market Cap (US$ Billion)\n",
       "0                            JPMorgan Chase                   368.78\n",
       "1   Industrial and Commercial Bank of China                   295.65\n",
       "2                           Bank of America                   279.73\n",
       "3                               Wells Fargo                   214.34\n",
       "4                   China Construction Bank                   207.98"
      ]
     },
     "execution_count": 7,
     "metadata": {},
     "output_type": "execute_result"
    }
   ],
   "source": [
    "#Write your code here\n",
    "data.head()"
   ]
  },
  {
   "cell_type": "markdown",
   "metadata": {},
   "source": [
    "### Loading the Data\n",
    "\n",
    "Usually you will Load the `pandas` dataframe created above into a JSON named `bank_market_cap.json` using the `to_json()` function, but this time the data will be sent to another team who will split the data file into two files and inspect it. If you save the data it will interfere with the next part of the assignment.\n"
   ]
  },
  {
   "cell_type": "code",
   "execution_count": 31,
   "metadata": {},
   "outputs": [],
   "source": [
    "#Write your code here\n",
    "import json\n",
    "data.to_csv(\"bank_market_cap.csv\")\n",
    "\n",
    "with open(\"bank_market_cap.json\", \"w\") as outfile:\n",
    "    json.dump(data.to_dict('dict'), outfile)"
   ]
  },
  {
   "cell_type": "markdown",
   "metadata": {},
   "source": [
    "## Authors\n"
   ]
  },
  {
   "cell_type": "markdown",
   "metadata": {},
   "source": [
    "Ramesh Sannareddy, Joseph Santarcangelo and Azim Hirjani\n"
   ]
  },
  {
   "cell_type": "markdown",
   "metadata": {},
   "source": [
    "### Other Contributors\n"
   ]
  },
  {
   "cell_type": "markdown",
   "metadata": {},
   "source": [
    "Rav Ahuja\n"
   ]
  },
  {
   "cell_type": "markdown",
   "metadata": {},
   "source": [
    "## Change Log\n"
   ]
  },
  {
   "cell_type": "markdown",
   "metadata": {},
   "source": [
    "| Date (YYYY-MM-DD) | Version | Changed By        | Change Description                 |\n",
    "| ----------------- | ------- | ----------------- | ---------------------------------- |\n",
    "| 2020-11-25        | 0.1     | Ramesh Sannareddy | Created initial version of the lab |\n"
   ]
  },
  {
   "cell_type": "markdown",
   "metadata": {},
   "source": [
    "Copyright © 2020 IBM Corporation.\n"
   ]
  }
 ],
 "metadata": {
  "kernelspec": {
   "display_name": "Python 3 (ipykernel)",
   "language": "python",
   "name": "python3"
  },
  "language_info": {
   "codemirror_mode": {
    "name": "ipython",
    "version": 3
   },
   "file_extension": ".py",
   "mimetype": "text/x-python",
   "name": "python",
   "nbconvert_exporter": "python",
   "pygments_lexer": "ipython3",
   "version": "3.7.9"
  }
 },
 "nbformat": 4,
 "nbformat_minor": 4
}
