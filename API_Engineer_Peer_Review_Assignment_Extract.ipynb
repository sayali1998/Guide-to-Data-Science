{
 "cells": [
  {
   "cell_type": "markdown",
   "metadata": {},
   "source": [
    "<center>\n",
    "    <img src=\"https://gitlab.com/ibm/skills-network/courses/placeholder101/-/raw/master/labs/module%201/images/IDSNlogo.png\" width=\"300\" alt=\"cognitiveclass.ai logo\"  />\n",
    "</center>\n"
   ]
  },
  {
   "cell_type": "markdown",
   "metadata": {},
   "source": [
    "# Peer Review Assignment - Data Engineer - Extract API Data\n"
   ]
  },
  {
   "cell_type": "markdown",
   "metadata": {},
   "source": [
    "Estimated time needed: **20** minutes\n"
   ]
  },
  {
   "cell_type": "markdown",
   "metadata": {},
   "source": [
    "## Objectives\n",
    "\n",
    "In this part you will:\n",
    "\n",
    "*   Collect exchange rate data using an API\n",
    "*   Store the data as a CSV\n"
   ]
  },
  {
   "cell_type": "markdown",
   "metadata": {},
   "source": [
    "For this lab, we are going to be using Python and several Python libraries. Some of these libraries might be installed in your lab environment or in SN Labs. Others may need to be installed by you. The cells below will install these libraries when executed.\n"
   ]
  },
  {
   "cell_type": "code",
   "execution_count": null,
   "metadata": {},
   "outputs": [],
   "source": [
    "#!pip install pandas\n",
    "#!pip install requests"
   ]
  },
  {
   "cell_type": "markdown",
   "metadata": {},
   "source": [
    "## Imports\n",
    "\n",
    "Import any additional libraries you may need here.\n"
   ]
  },
  {
   "cell_type": "code",
   "execution_count": 1,
   "metadata": {},
   "outputs": [],
   "source": [
    "import requests\n",
    "import pandas as pd"
   ]
  },
  {
   "cell_type": "markdown",
   "metadata": {},
   "source": [
    "## Extract Data Using an API\n"
   ]
  },
  {
   "cell_type": "markdown",
   "metadata": {},
   "source": [
    "Using ExchangeRate-API we will extract currency exchange rate data. Use the below steps to get the access key and to get the data.\n",
    "\n",
    "1.  Open the url : [https://exchangeratesapi.io/](https://exchangeratesapi.io/?utm_medium=Exinfluencer&utm_source=Exinfluencer&utm_content=000026UJ&utm_term=10006555&utm_id=NA-SkillsNetwork-Channel-SkillsNetworkCoursesIBMDeveloperSkillsNetworkPY0221ENSkillsNetwork23455645-2021-01-01) and create a free account.\n",
    "2.  Once the account is created. You will get the Get the Free API key option on the top as shown below:\n",
    "\n",
    "<img src=\"https://cf-courses-data.s3.us.cloud-object-storage.appdomain.cloud/IBMDeveloperSkillsNetwork-PY0221EN-SkillsNetwork/labs/module%206/Final%20Assignment/Images/getapi.png\"/>\n",
    "\n",
    "3.  Copy the API key and use in the url in Question 1.\n"
   ]
  },
  {
   "cell_type": "markdown",
   "metadata": {},
   "source": [
    "### Call the API\n",
    "\n",
    "<b> Question 1</b> Using the `requests` library call the endpoint given above and save the text, remember the first few characters of the output:\n"
   ]
  },
  {
   "cell_type": "code",
   "execution_count": 56,
   "metadata": {},
   "outputs": [
    {
     "data": {
      "text/plain": [
       "b'{\"success\":true,\"timestamp\":1644390542,\"base\":\"EUR\",\"date\":\"2022-02-09\",\"rates\":{\"AED\":4.194863,\"AFN\":106.174948,\"ALL\":121.358803,\"AMD\":548.047884,\"ANG\":2.058814,\"AOA\":596.286214,\"ARS\":120.842973,\"AUD\":1.5956,\"AWG\":2.055976,\"AZN\":1.955394,\"BAM\":1.955394,\"BBD\":2.306697,\"BDT\":98.215316,\"BGN\":1.954472,\"BHD\":0.430525,\"BIF\":2282.411456,\"BMD\":1.142051,\"BND\":1.536537,\"BOB\":7.85375,\"BRL\":6.006839,\"BSD\":1.1424,\"BTC\":2.6133405e-5,\"BTN\":85.347083,\"BWP\":13.260187,\"BYN\":2.939187,\"BYR\":22384.190366,\"BZD\":2.302798,\"CAD\":1.450576,\"CDF\":2297.805557,\"CHF\":1.056009,\"CLF\":0.034253,\"CLP\":945.138089,\"CNY\":7.268919,\"COP\":4515.530745,\"CRC\":735.076556,\"CUC\":1.142051,\"CUP\":30.264339,\"CVE\":110.240436,\"CZK\":24.258869,\"DJF\":203.384477,\"DKK\":7.443426,\"DOP\":65.696499,\"DZD\":160.724189,\"EGP\":17.949156,\"ERN\":17.13078,\"ETB\":57.280285,\"EUR\":1,\"FJD\":2.445582,\"FKP\":0.831321,\"GBP\":0.842359,\"GEL\":3.363311,\"GGP\":0.831321,\"GHS\":7.311171,\"GIP\":0.831321,\"GMD\":60.471167,\"GNF\":10395.447155,\"GTQ\":8.790541,\"GYD\":238.896769,\"HKD\":8.899829,\"HNL\":28.122364,\"HRK\":7.520518,\"HTG\":117.918177,\"HUF\":353.571978,\"IDR\":16405.213232,\"ILS\":3.666187,\"IMP\":0.831321,\"INR\":85.43166,\"IQD\":1666.704032,\"IRR\":48251.634933,\"ISK\":142.207943,\"JEP\":0.831322,\"JMD\":178.818807,\"JOD\":0.809704,\"JPY\":131.878857,\"KES\":129.735137,\"KGS\":96.836177,\"KHR\":4647.103498,\"KMF\":491.252757,\"KPW\":1027.845655,\"KRW\":1366.223914,\"KWD\":0.34522,\"KYD\":0.95208,\"KZT\":488.756816,\"LAK\":13064.218197,\"LBP\":1727.298309,\"LKR\":230.769994,\"LRD\":175.181665,\"LSL\":17.747765,\"LTL\":3.372178,\"LVL\":0.690815,\"LYD\":5.232586,\"MAD\":10.659425,\"MDL\":20.474224,\"MGA\":4557.974574,\"MKD\":61.615731,\"MMK\":2031.232724,\"MNT\":3264.929643,\"MOP\":9.170576,\"MRO\":407.711842,\"MUR\":50.132877,\"MVR\":17.6559,\"MWK\":917.307542,\"MXN\":23.508185,\"MYR\":4.779518,\"MZN\":72.896684,\"NAD\":17.7476,\"NGN\":474.944136,\"NIO\":40.502443,\"NOK\":10.074142,\"NPR\":136.55378,\"NZD\":1.715862,\"OMR\":0.439645,\"PAB\":1.142445,\"PEN\":4.395821,\"PGK\":4.011853,\"PHP\":58.685981,\"PKR\":199.171449,\"PLN\":4.525365,\"PYG\":7972.007605,\"QAR\":4.158237,\"RON\":4.945538,\"RSD\":117.608879,\"RUB\":85.528292,\"RWF\":1187.279857,\"SAR\":4.284559,\"SBD\":9.24747,\"SCR\":15.366256,\"SDG\":504.786673,\"SEK\":10.430091,\"SGD\":1.53451,\"SHP\":1.573062,\"SLL\":12950.852844,\"SOS\":668.099239,\"SRD\":23.531383,\"STD\":23638.140157,\"SVC\":9.996685,\"SYP\":2868.830672,\"SZL\":17.651917,\"THB\":37.544894,\"TJS\":12.903025,\"TMT\":3.997177,\"TND\":3.265695,\"TOP\":2.590113,\"TRY\":15.527888,\"TTD\":7.752905,\"TWD\":31.789551,\"TZS\":2640.420668,\"UAH\":31.951641,\"UGX\":4015.405289,\"USD\":1.142051,\"UYU\":49.984644,\"UZS\":12398.058911,\"VEF\":244204918512.49384,\"VND\":25930.257258,\"VUV\":129.818498,\"WST\":2.983428,\"XAF\":655.802261,\"XAG\":0.050716,\"XAU\":0.000632,\"XCD\":3.086449,\"XDR\":0.813315,\"XOF\":655.84245,\"XPF\":119.630005,\"YER\":285.797715,\"ZAR\":17.547832,\"ZMK\":10279.831831,\"ZMW\":21.163404,\"ZWL\":367.739804}}'"
      ]
     },
     "execution_count": 56,
     "metadata": {},
     "output_type": "execute_result"
    }
   ],
   "source": [
    "# Write your code here\n",
    "url = \"http://api.exchangeratesapi.io/v1/latest?base=EUR&access_key=944d06364305c2d422cbd385360754fd\"  #Make sure to change ******* to your API key.\n",
    "data = requests.get(url)\n",
    "data.content\n"
   ]
  },
  {
   "cell_type": "markdown",
   "metadata": {},
   "source": [
    "### Save as DataFrame\n",
    "\n",
    "<b> Question 2</b>  Using the data gathered turn it into a `pandas` dataframe. The dataframe should have the Currency as the index and `Rate` as their columns. Make sure to drop unnecessary columns.\n"
   ]
  },
  {
   "cell_type": "code",
   "execution_count": 34,
   "metadata": {},
   "outputs": [
    {
     "ename": "AttributeError",
     "evalue": "'dict' object has no attribute 'text'",
     "output_type": "error",
     "traceback": [
      "\u001b[1;31m---------------------------------------------------------------------------\u001b[0m",
      "\u001b[1;31mAttributeError\u001b[0m                            Traceback (most recent call last)",
      "\u001b[1;32m~\\AppData\\Local\\Temp/ipykernel_16356/871844462.py\u001b[0m in \u001b[0;36m<module>\u001b[1;34m\u001b[0m\n\u001b[0;32m      1\u001b[0m \u001b[1;32mimport\u001b[0m \u001b[0mjson\u001b[0m\u001b[1;33m\u001b[0m\u001b[1;33m\u001b[0m\u001b[0m\n\u001b[1;32m----> 2\u001b[1;33m \u001b[0mdata\u001b[0m \u001b[1;33m=\u001b[0m \u001b[0mjson\u001b[0m\u001b[1;33m.\u001b[0m\u001b[0mloads\u001b[0m\u001b[1;33m(\u001b[0m\u001b[0mdata\u001b[0m\u001b[1;33m.\u001b[0m\u001b[0mtext\u001b[0m\u001b[1;33m)\u001b[0m\u001b[1;33m\u001b[0m\u001b[1;33m\u001b[0m\u001b[0m\n\u001b[0m\u001b[0;32m      3\u001b[0m \u001b[0mdata\u001b[0m\u001b[1;33m\u001b[0m\u001b[1;33m\u001b[0m\u001b[0m\n",
      "\u001b[1;31mAttributeError\u001b[0m: 'dict' object has no attribute 'text'"
     ]
    }
   ],
   "source": [
    "import json\n",
    "data = json.loads(data.text)"
   ]
  },
  {
   "cell_type": "code",
   "execution_count": 38,
   "metadata": {},
   "outputs": [
    {
     "data": {
      "text/plain": [
       "{'AED': 4.194863,\n",
       " 'AFN': 106.174948,\n",
       " 'ALL': 121.358803,\n",
       " 'AMD': 548.047884,\n",
       " 'ANG': 2.058814,\n",
       " 'AOA': 596.286214,\n",
       " 'ARS': 120.842973,\n",
       " 'AUD': 1.5956,\n",
       " 'AWG': 2.055976,\n",
       " 'AZN': 1.955394,\n",
       " 'BAM': 1.955394,\n",
       " 'BBD': 2.306697,\n",
       " 'BDT': 98.215316,\n",
       " 'BGN': 1.954472,\n",
       " 'BHD': 0.430525,\n",
       " 'BIF': 2282.411456,\n",
       " 'BMD': 1.142051,\n",
       " 'BND': 1.536537,\n",
       " 'BOB': 7.85375,\n",
       " 'BRL': 6.006839,\n",
       " 'BSD': 1.1424,\n",
       " 'BTC': 2.6133405e-05,\n",
       " 'BTN': 85.347083,\n",
       " 'BWP': 13.260187,\n",
       " 'BYN': 2.939187,\n",
       " 'BYR': 22384.190366,\n",
       " 'BZD': 2.302798,\n",
       " 'CAD': 1.450576,\n",
       " 'CDF': 2297.805557,\n",
       " 'CHF': 1.056009,\n",
       " 'CLF': 0.034253,\n",
       " 'CLP': 945.138089,\n",
       " 'CNY': 7.268919,\n",
       " 'COP': 4515.530745,\n",
       " 'CRC': 735.076556,\n",
       " 'CUC': 1.142051,\n",
       " 'CUP': 30.264339,\n",
       " 'CVE': 110.240436,\n",
       " 'CZK': 24.258869,\n",
       " 'DJF': 203.384477,\n",
       " 'DKK': 7.443426,\n",
       " 'DOP': 65.696499,\n",
       " 'DZD': 160.724189,\n",
       " 'EGP': 17.949156,\n",
       " 'ERN': 17.13078,\n",
       " 'ETB': 57.280285,\n",
       " 'EUR': 1,\n",
       " 'FJD': 2.445582,\n",
       " 'FKP': 0.831321,\n",
       " 'GBP': 0.842359,\n",
       " 'GEL': 3.363311,\n",
       " 'GGP': 0.831321,\n",
       " 'GHS': 7.311171,\n",
       " 'GIP': 0.831321,\n",
       " 'GMD': 60.471167,\n",
       " 'GNF': 10395.447155,\n",
       " 'GTQ': 8.790541,\n",
       " 'GYD': 238.896769,\n",
       " 'HKD': 8.899829,\n",
       " 'HNL': 28.122364,\n",
       " 'HRK': 7.520518,\n",
       " 'HTG': 117.918177,\n",
       " 'HUF': 353.571978,\n",
       " 'IDR': 16405.213232,\n",
       " 'ILS': 3.666187,\n",
       " 'IMP': 0.831321,\n",
       " 'INR': 85.43166,\n",
       " 'IQD': 1666.704032,\n",
       " 'IRR': 48251.634933,\n",
       " 'ISK': 142.207943,\n",
       " 'JEP': 0.831322,\n",
       " 'JMD': 178.818807,\n",
       " 'JOD': 0.809704,\n",
       " 'JPY': 131.878857,\n",
       " 'KES': 129.735137,\n",
       " 'KGS': 96.836177,\n",
       " 'KHR': 4647.103498,\n",
       " 'KMF': 491.252757,\n",
       " 'KPW': 1027.845655,\n",
       " 'KRW': 1366.223914,\n",
       " 'KWD': 0.34522,\n",
       " 'KYD': 0.95208,\n",
       " 'KZT': 488.756816,\n",
       " 'LAK': 13064.218197,\n",
       " 'LBP': 1727.298309,\n",
       " 'LKR': 230.769994,\n",
       " 'LRD': 175.181665,\n",
       " 'LSL': 17.747765,\n",
       " 'LTL': 3.372178,\n",
       " 'LVL': 0.690815,\n",
       " 'LYD': 5.232586,\n",
       " 'MAD': 10.659425,\n",
       " 'MDL': 20.474224,\n",
       " 'MGA': 4557.974574,\n",
       " 'MKD': 61.615731,\n",
       " 'MMK': 2031.232724,\n",
       " 'MNT': 3264.929643,\n",
       " 'MOP': 9.170576,\n",
       " 'MRO': 407.711842,\n",
       " 'MUR': 50.132877,\n",
       " 'MVR': 17.6559,\n",
       " 'MWK': 917.307542,\n",
       " 'MXN': 23.508185,\n",
       " 'MYR': 4.779518,\n",
       " 'MZN': 72.896684,\n",
       " 'NAD': 17.7476,\n",
       " 'NGN': 474.944136,\n",
       " 'NIO': 40.502443,\n",
       " 'NOK': 10.074142,\n",
       " 'NPR': 136.55378,\n",
       " 'NZD': 1.715862,\n",
       " 'OMR': 0.439645,\n",
       " 'PAB': 1.142445,\n",
       " 'PEN': 4.395821,\n",
       " 'PGK': 4.011853,\n",
       " 'PHP': 58.685981,\n",
       " 'PKR': 199.171449,\n",
       " 'PLN': 4.525365,\n",
       " 'PYG': 7972.007605,\n",
       " 'QAR': 4.158237,\n",
       " 'RON': 4.945538,\n",
       " 'RSD': 117.608879,\n",
       " 'RUB': 85.528292,\n",
       " 'RWF': 1187.279857,\n",
       " 'SAR': 4.284559,\n",
       " 'SBD': 9.24747,\n",
       " 'SCR': 15.366256,\n",
       " 'SDG': 504.786673,\n",
       " 'SEK': 10.430091,\n",
       " 'SGD': 1.53451,\n",
       " 'SHP': 1.573062,\n",
       " 'SLL': 12950.852844,\n",
       " 'SOS': 668.099239,\n",
       " 'SRD': 23.531383,\n",
       " 'STD': 23638.140157,\n",
       " 'SVC': 9.996685,\n",
       " 'SYP': 2868.830672,\n",
       " 'SZL': 17.651917,\n",
       " 'THB': 37.544894,\n",
       " 'TJS': 12.903025,\n",
       " 'TMT': 3.997177,\n",
       " 'TND': 3.265695,\n",
       " 'TOP': 2.590113,\n",
       " 'TRY': 15.527888,\n",
       " 'TTD': 7.752905,\n",
       " 'TWD': 31.789551,\n",
       " 'TZS': 2640.420668,\n",
       " 'UAH': 31.951641,\n",
       " 'UGX': 4015.405289,\n",
       " 'USD': 1.142051,\n",
       " 'UYU': 49.984644,\n",
       " 'UZS': 12398.058911,\n",
       " 'VEF': 244204918512.49384,\n",
       " 'VND': 25930.257258,\n",
       " 'VUV': 129.818498,\n",
       " 'WST': 2.983428,\n",
       " 'XAF': 655.802261,\n",
       " 'XAG': 0.050716,\n",
       " 'XAU': 0.000632,\n",
       " 'XCD': 3.086449,\n",
       " 'XDR': 0.813315,\n",
       " 'XOF': 655.84245,\n",
       " 'XPF': 119.630005,\n",
       " 'YER': 285.797715,\n",
       " 'ZAR': 17.547832,\n",
       " 'ZMK': 10279.831831,\n",
       " 'ZMW': 21.163404,\n",
       " 'ZWL': 367.739804}"
      ]
     },
     "execution_count": 38,
     "metadata": {},
     "output_type": "execute_result"
    }
   ],
   "source": [
    "data[\"rates\"]"
   ]
  },
  {
   "cell_type": "code",
   "execution_count": 48,
   "metadata": {},
   "outputs": [
    {
     "data": {
      "text/html": [
       "<div>\n",
       "<style scoped>\n",
       "    .dataframe tbody tr th:only-of-type {\n",
       "        vertical-align: middle;\n",
       "    }\n",
       "\n",
       "    .dataframe tbody tr th {\n",
       "        vertical-align: top;\n",
       "    }\n",
       "\n",
       "    .dataframe thead th {\n",
       "        text-align: right;\n",
       "    }\n",
       "</style>\n",
       "<table border=\"1\" class=\"dataframe\">\n",
       "  <thead>\n",
       "    <tr style=\"text-align: right;\">\n",
       "      <th></th>\n",
       "      <th>success</th>\n",
       "      <th>timestamp</th>\n",
       "      <th>base</th>\n",
       "      <th>date</th>\n",
       "      <th>rates</th>\n",
       "    </tr>\n",
       "  </thead>\n",
       "  <tbody>\n",
       "    <tr>\n",
       "      <th>AED</th>\n",
       "      <td>True</td>\n",
       "      <td>1644390542</td>\n",
       "      <td>EUR</td>\n",
       "      <td>2022-02-09</td>\n",
       "      <td>4.194863</td>\n",
       "    </tr>\n",
       "    <tr>\n",
       "      <th>AFN</th>\n",
       "      <td>True</td>\n",
       "      <td>1644390542</td>\n",
       "      <td>EUR</td>\n",
       "      <td>2022-02-09</td>\n",
       "      <td>106.174948</td>\n",
       "    </tr>\n",
       "    <tr>\n",
       "      <th>ALL</th>\n",
       "      <td>True</td>\n",
       "      <td>1644390542</td>\n",
       "      <td>EUR</td>\n",
       "      <td>2022-02-09</td>\n",
       "      <td>121.358803</td>\n",
       "    </tr>\n",
       "    <tr>\n",
       "      <th>AMD</th>\n",
       "      <td>True</td>\n",
       "      <td>1644390542</td>\n",
       "      <td>EUR</td>\n",
       "      <td>2022-02-09</td>\n",
       "      <td>548.047884</td>\n",
       "    </tr>\n",
       "    <tr>\n",
       "      <th>ANG</th>\n",
       "      <td>True</td>\n",
       "      <td>1644390542</td>\n",
       "      <td>EUR</td>\n",
       "      <td>2022-02-09</td>\n",
       "      <td>2.058814</td>\n",
       "    </tr>\n",
       "    <tr>\n",
       "      <th>...</th>\n",
       "      <td>...</td>\n",
       "      <td>...</td>\n",
       "      <td>...</td>\n",
       "      <td>...</td>\n",
       "      <td>...</td>\n",
       "    </tr>\n",
       "    <tr>\n",
       "      <th>YER</th>\n",
       "      <td>True</td>\n",
       "      <td>1644390542</td>\n",
       "      <td>EUR</td>\n",
       "      <td>2022-02-09</td>\n",
       "      <td>285.797715</td>\n",
       "    </tr>\n",
       "    <tr>\n",
       "      <th>ZAR</th>\n",
       "      <td>True</td>\n",
       "      <td>1644390542</td>\n",
       "      <td>EUR</td>\n",
       "      <td>2022-02-09</td>\n",
       "      <td>17.547832</td>\n",
       "    </tr>\n",
       "    <tr>\n",
       "      <th>ZMK</th>\n",
       "      <td>True</td>\n",
       "      <td>1644390542</td>\n",
       "      <td>EUR</td>\n",
       "      <td>2022-02-09</td>\n",
       "      <td>10279.831831</td>\n",
       "    </tr>\n",
       "    <tr>\n",
       "      <th>ZMW</th>\n",
       "      <td>True</td>\n",
       "      <td>1644390542</td>\n",
       "      <td>EUR</td>\n",
       "      <td>2022-02-09</td>\n",
       "      <td>21.163404</td>\n",
       "    </tr>\n",
       "    <tr>\n",
       "      <th>ZWL</th>\n",
       "      <td>True</td>\n",
       "      <td>1644390542</td>\n",
       "      <td>EUR</td>\n",
       "      <td>2022-02-09</td>\n",
       "      <td>367.739804</td>\n",
       "    </tr>\n",
       "  </tbody>\n",
       "</table>\n",
       "<p>168 rows × 5 columns</p>\n",
       "</div>"
      ],
      "text/plain": [
       "     success   timestamp base        date         rates\n",
       "AED     True  1644390542  EUR  2022-02-09      4.194863\n",
       "AFN     True  1644390542  EUR  2022-02-09    106.174948\n",
       "ALL     True  1644390542  EUR  2022-02-09    121.358803\n",
       "AMD     True  1644390542  EUR  2022-02-09    548.047884\n",
       "ANG     True  1644390542  EUR  2022-02-09      2.058814\n",
       "..       ...         ...  ...         ...           ...\n",
       "YER     True  1644390542  EUR  2022-02-09    285.797715\n",
       "ZAR     True  1644390542  EUR  2022-02-09     17.547832\n",
       "ZMK     True  1644390542  EUR  2022-02-09  10279.831831\n",
       "ZMW     True  1644390542  EUR  2022-02-09     21.163404\n",
       "ZWL     True  1644390542  EUR  2022-02-09    367.739804\n",
       "\n",
       "[168 rows x 5 columns]"
      ]
     },
     "execution_count": 48,
     "metadata": {},
     "output_type": "execute_result"
    }
   ],
   "source": [
    "# Turn the data into a dataframe\n",
    "rates_data = pd.DataFrame(data)\n",
    "\n",
    "rates_data"
   ]
  },
  {
   "cell_type": "code",
   "execution_count": 50,
   "metadata": {},
   "outputs": [],
   "source": [
    "# Drop unnescessary columns\n",
    "rates_data = rates_data.drop(columns = [\"success\",\"timestamp\",\"base\",\"date\"])"
   ]
  },
  {
   "cell_type": "markdown",
   "metadata": {},
   "source": [
    "### Load the Data\n",
    "\n",
    "Using the dataframe save it as a CSV names `exchange_rates_1.csv`.\n"
   ]
  },
  {
   "cell_type": "code",
   "execution_count": 54,
   "metadata": {},
   "outputs": [],
   "source": [
    "# Save the Dataframe\n",
    "rates_data.to_csv(\"exchange_rates_1.csv\")"
   ]
  },
  {
   "cell_type": "markdown",
   "metadata": {},
   "source": [
    "Your CSV should be in this format with more currencies\n",
    "\n",
    "|     | Rates      |\n",
    "| --- | ---------- |\n",
    "| AED | 4.398618   |\n",
    "| AFN | 92.917693  |\n",
    "| ALL | 123.099093 |\n",
    "| AMD | 621.935674 |\n",
    "| ANG | 2.149648   |\n"
   ]
  },
  {
   "cell_type": "markdown",
   "metadata": {},
   "source": [
    "## Authors\n"
   ]
  },
  {
   "cell_type": "markdown",
   "metadata": {},
   "source": [
    "Ramesh Sannareddy, Joseph Santarcangelo and Azim Hirjani\n"
   ]
  },
  {
   "cell_type": "markdown",
   "metadata": {},
   "source": [
    "### Other Contributors\n"
   ]
  },
  {
   "cell_type": "markdown",
   "metadata": {},
   "source": [
    "Rav Ahuja\n"
   ]
  },
  {
   "cell_type": "markdown",
   "metadata": {},
   "source": [
    "## Change Log\n"
   ]
  },
  {
   "cell_type": "markdown",
   "metadata": {},
   "source": [
    "| Date (YYYY-MM-DD) | Version | Changed By        | Change Description                 |\n",
    "| ----------------- | ------- | ----------------- | ---------------------------------- |\n",
    "| 2021-04-15        | 0.2     | Malika            | Updated the lab from USD to EUR    |\n",
    "| 2020-11-25        | 0.1     | Ramesh Sannareddy | Created initial version of the lab |\n"
   ]
  },
  {
   "cell_type": "markdown",
   "metadata": {},
   "source": [
    "Copyright © 2020 IBM Corporation. This notebook and its source code are released under the terms of the [MIT License](https://cognitiveclass.ai/mit-license?utm_medium=Exinfluencer&utm_source=Exinfluencer&utm_content=000026UJ&utm_term=10006555&utm_id=NA-SkillsNetwork-Channel-SkillsNetworkCoursesIBMDeveloperSkillsNetworkPY0221ENSkillsNetwork23455645-2021-01-01&cm_mmc=Email_Newsletter-\\_-Developer_Ed%2BTech-\\_-WW_WW-\\_-SkillsNetwork-Courses-IBM-DA0321EN-SkillsNetwork-21426264&cm_mmca1=000026UJ&cm_mmca2=10006555&cm_mmca3=M12345678&cvosrc=email.Newsletter.M12345678&cvo_campaign=000026UJ).\n"
   ]
  }
 ],
 "metadata": {
  "kernelspec": {
   "display_name": "Python 3 (ipykernel)",
   "language": "python",
   "name": "python3"
  },
  "language_info": {
   "codemirror_mode": {
    "name": "ipython",
    "version": 3
   },
   "file_extension": ".py",
   "mimetype": "text/x-python",
   "name": "python",
   "nbconvert_exporter": "python",
   "pygments_lexer": "ipython3",
   "version": "3.7.9"
  }
 },
 "nbformat": 4,
 "nbformat_minor": 4
}
